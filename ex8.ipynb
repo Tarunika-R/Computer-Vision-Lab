{
 "cells": [
  {
   "cell_type": "code",
   "execution_count": 2,
   "id": "c1ef38bf",
   "metadata": {},
   "outputs": [],
   "source": [
    "from PIL import Image\n",
    "import pytesseract\n",
    "import os\n",
    "\n",
    "def extract_text_from_image(image_path):\n",
    "    image = Image.open(image_path)\n",
    "    text = pytesseract.image_to_string(image)\n",
    "    return text\n"
   ]
  },
  {
   "cell_type": "code",
   "execution_count": 3,
   "id": "5d027c6a",
   "metadata": {},
   "outputs": [],
   "source": [
    "from transformers import pipeline\n",
    "\n",
    "def answer_question(context, question):\n",
    "    qa = pipeline(\"question-answering\", model=\"distilbert-base-uncased-distilled-squad\")\n",
    "    result = qa(question=question, context=context)\n",
    "    return result['answer']\n"
   ]
  },
  {
   "cell_type": "code",
   "execution_count": 4,
   "id": "e3fc9fdd",
   "metadata": {},
   "outputs": [],
   "source": [
    "def main(image_path, question):\n",
    "    print(\"[1] Extracting text from image using OCR...\")\n",
    "    ocr_text = extract_text_from_image(image_path)\n",
    "    print(\"\\n[OCR Extracted Text]:\\n\", ocr_text)\n",
    "\n",
    "    print(\"\\n[2] Answering question using NLP...\")\n",
    "    answer = answer_question(ocr_text, question)\n",
    "\n",
    "    print(\"\\n[Question]:\", question)\n",
    "    print(\"[Answer]:\", answer)\n"
   ]
  },
  {
   "cell_type": "code",
   "execution_count": 5,
   "id": "3f2fe8cd",
   "metadata": {},
   "outputs": [
    {
     "name": "stdout",
     "output_type": "stream",
     "text": [
      "[1] Extracting text from image using OCR...\n",
      "\n",
      "[OCR Extracted Text]:\n",
      " Receipt\n",
      "\n",
      "[Adress: 1236 Lores Ipsum, Dolor\n",
      "‘Tel 123-456-7890\n",
      "\n",
      "Dave? 01-01-2018 1035\n",
      "\n",
      "Loren 6.30\n",
      "Ipsum 150\n",
      "Dolor Sie 48.00\n",
      "amet 9.30\n",
      "Consectetsr 11.90\n",
      "Adipiscing Elie 120\n",
      "Sed Do 0.40\n",
      "AMOUNT 84.80\n",
      "Sub-total 76.80\n",
      "Seles Tax 8.00\n",
      "Balance 24.00\n",
      "\n",
      "MMU\n",
      "\n",
      "\n",
      "\n",
      "[2] Answering question using NLP...\n"
     ]
    },
    {
     "name": "stderr",
     "output_type": "stream",
     "text": [
      "Device set to use cpu\n"
     ]
    },
    {
     "name": "stdout",
     "output_type": "stream",
     "text": [
      "\n",
      "[Question]: What is the total amount?\n",
      "[Answer]: 84.80\n"
     ]
    }
   ],
   "source": [
    "if __name__ == \"__main__\":\n",
    "    image_path = \"Receipt.jpg\"  \n",
    "    question = \"What is the total amount?\"\n",
    "\n",
    "    main(image_path, question)\n"
   ]
  },
  {
   "cell_type": "code",
   "execution_count": null,
   "id": "08ebf97a",
   "metadata": {},
   "outputs": [],
   "source": []
  }
 ],
 "metadata": {
  "kernelspec": {
   "display_name": "compvis",
   "language": "python",
   "name": "python3"
  },
  "language_info": {
   "codemirror_mode": {
    "name": "ipython",
    "version": 3
   },
   "file_extension": ".py",
   "mimetype": "text/x-python",
   "name": "python",
   "nbconvert_exporter": "python",
   "pygments_lexer": "ipython3",
   "version": "3.11.9"
  }
 },
 "nbformat": 4,
 "nbformat_minor": 5
}
