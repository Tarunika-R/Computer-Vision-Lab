{
 "cells": [
  {
   "cell_type": "code",
   "execution_count": 1,
   "id": "c1ef38bf",
   "metadata": {},
   "outputs": [],
   "source": [
    "from PIL import Image\n",
    "import pytesseract\n",
    "import os\n",
    "\n",
    "def extract_text_from_image(image_path):\n",
    "    image = Image.open(image_path)\n",
    "    text = pytesseract.image_to_string(image)\n",
    "    return text\n"
   ]
  },
  {
   "cell_type": "code",
   "execution_count": 8,
   "id": "5d027c6a",
   "metadata": {},
   "outputs": [],
   "source": [
    "from transformers import pipeline\n",
    "\n",
    "def answer_question(context, question):\n",
    "    qa = pipeline(\"question-answering\", model=\"distilbert-base-uncased-distilled-squad\")\n",
    "    result = qa(question=question, context=context)\n",
    "    return result['answer']\n"
   ]
  },
  {
   "cell_type": "code",
   "execution_count": 3,
   "id": "e3fc9fdd",
   "metadata": {},
   "outputs": [],
   "source": [
    "def main(image_path, question):\n",
    "    print(\"[1] Extracting text from image using OCR...\")\n",
    "    ocr_text = extract_text_from_image(image_path)\n",
    "    print(\"\\n[OCR Extracted Text]:\\n\", ocr_text)\n",
    "\n",
    "    print(\"\\n[2] Answering question using NLP...\")\n",
    "    answer = answer_question(ocr_text, question)\n",
    "\n",
    "    print(\"\\n[Question]:\", question)\n",
    "    print(\"[Answer]:\", answer)\n"
   ]
  },
  {
   "cell_type": "code",
   "execution_count": 7,
   "id": "3f2fe8cd",
   "metadata": {},
   "outputs": [
    {
     "name": "stdout",
     "output_type": "stream",
     "text": [
      "[1] Extracting text from image using OCR...\n",
      "\n",
      "[OCR Extracted Text]:\n",
      " erate,\n",
      "Sensis 9?\n",
      "Fate alee\n",
      "\n",
      "movie 6 Rami\n",
      "oe Teh ot\n",
      "\n",
      "Deatte emote 4 650 OF 9.00\n",
      "ata 4 Soo oF So\n",
      "sdweradtael $200 OF 2a)\n",
      "Nowa 8 SS OF\n",
      "\n",
      "taal: oF 54.50\n",
      "\n",
      "freh NoE Mat SAO 35\n",
      "\n",
      "Enseat fra 280 OR\n",
      "eset See ele\n",
      "\n",
      "hat ese 0 2\n",
      "sels a9 68\n",
      "Fees a9 es 6) 8\n",
      "\n",
      "Eomtls ase heing\n",
      "\n",
      "\n",
      "\n",
      "[2] Answering question using NLP...\n"
     ]
    },
    {
     "name": "stderr",
     "output_type": "stream",
     "text": [
      "Device set to use cpu\n"
     ]
    },
    {
     "name": "stdout",
     "output_type": "stream",
     "text": [
      "\n",
      "[Question]: What is the total amount?\n",
      "[Answer]: $200 OF 2a\n"
     ]
    }
   ],
   "source": [
    "if __name__ == \"__main__\":\n",
    "    image_path = \"Receipt.jpg\"  \n",
    "    question = \"What is the total amount?\"\n",
    "\n",
    "    main(image_path, question)\n"
   ]
  },
  {
   "cell_type": "code",
   "execution_count": null,
   "id": "08ebf97a",
   "metadata": {},
   "outputs": [],
   "source": []
  }
 ],
 "metadata": {
  "kernelspec": {
   "display_name": "compvis",
   "language": "python",
   "name": "python3"
  },
  "language_info": {
   "codemirror_mode": {
    "name": "ipython",
    "version": 3
   },
   "file_extension": ".py",
   "mimetype": "text/x-python",
   "name": "python",
   "nbconvert_exporter": "python",
   "pygments_lexer": "ipython3",
   "version": "3.11.9"
  }
 },
 "nbformat": 4,
 "nbformat_minor": 5
}
